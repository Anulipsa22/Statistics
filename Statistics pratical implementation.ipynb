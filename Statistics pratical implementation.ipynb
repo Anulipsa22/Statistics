{
 "cells": [
  {
   "cell_type": "markdown",
   "id": "f4989faf",
   "metadata": {},
   "source": [
    "## Statistics platical implementation\n",
    "Measure of central cendency\n",
    "\n",
    "1.Mean\n",
    "\n",
    "2.Median\n",
    "\n",
    "3.Mode\n"
   ]
  },
  {
   "cell_type": "code",
   "execution_count": 5,
   "id": "2459ee91",
   "metadata": {},
   "outputs": [],
   "source": [
    "ages=[23,24,32,45,12,43,67,45,32,56,32,120]"
   ]
  },
  {
   "cell_type": "code",
   "execution_count": 6,
   "id": "219bb115",
   "metadata": {},
   "outputs": [
    {
     "name": "stdout",
     "output_type": "stream",
     "text": [
      "44.25\n",
      "37.5\n"
     ]
    }
   ],
   "source": [
    "import numpy as np\n",
    "print(np.mean(ages))\n",
    "print(np.median(ages))"
   ]
  },
  {
   "cell_type": "code",
   "execution_count": 7,
   "id": "63507c42",
   "metadata": {},
   "outputs": [
    {
     "name": "stdout",
     "output_type": "stream",
     "text": [
      "44.25\n"
     ]
    }
   ],
   "source": [
    "import statistics\n",
    "print(statistics.mean(ages))"
   ]
  },
  {
   "cell_type": "code",
   "execution_count": 4,
   "id": "a685d0be",
   "metadata": {},
   "outputs": [
    {
     "name": "stdout",
     "output_type": "stream",
     "text": [
      "37.5\n"
     ]
    }
   ],
   "source": [
    "print(statistics.median(ages))"
   ]
  },
  {
   "cell_type": "code",
   "execution_count": 5,
   "id": "d23a7f2f",
   "metadata": {},
   "outputs": [
    {
     "data": {
      "text/plain": [
       "32"
      ]
     },
     "execution_count": 5,
     "metadata": {},
     "output_type": "execute_result"
    }
   ],
   "source": [
    "import statistics\n",
    "statistics.mode(ages)\n"
   ]
  },
  {
   "cell_type": "code",
   "execution_count": 4,
   "id": "ddff5f70",
   "metadata": {},
   "outputs": [
    {
     "ename": "NameError",
     "evalue": "name 'ages' is not defined",
     "output_type": "error",
     "traceback": [
      "\u001b[1;31m---------------------------------------------------------------------------\u001b[0m",
      "\u001b[1;31mNameError\u001b[0m                                 Traceback (most recent call last)",
      "\u001b[1;32mC:\\Users\\ANULIP~1\\AppData\\Local\\Temp/ipykernel_11572/3797736200.py\u001b[0m in \u001b[0;36m<module>\u001b[1;34m\u001b[0m\n\u001b[0;32m      1\u001b[0m \u001b[1;32mimport\u001b[0m \u001b[0mseaborn\u001b[0m \u001b[1;32mas\u001b[0m \u001b[0msns\u001b[0m\u001b[1;33m\u001b[0m\u001b[1;33m\u001b[0m\u001b[0m\n\u001b[1;32m----> 2\u001b[1;33m \u001b[0msns\u001b[0m\u001b[1;33m.\u001b[0m\u001b[0mboxplot\u001b[0m\u001b[1;33m(\u001b[0m\u001b[0mages\u001b[0m\u001b[1;33m)\u001b[0m\u001b[1;33m\u001b[0m\u001b[1;33m\u001b[0m\u001b[0m\n\u001b[0m",
      "\u001b[1;31mNameError\u001b[0m: name 'ages' is not defined"
     ]
    }
   ],
   "source": [
    "import seaborn as sns\n",
    "sns.boxplot(ages)"
   ]
  },
  {
   "cell_type": "markdown",
   "id": "25bcfdd4",
   "metadata": {},
   "source": [
    "## 5 Number summary"
   ]
  },
  {
   "cell_type": "code",
   "execution_count": 7,
   "id": "73a8415e",
   "metadata": {},
   "outputs": [],
   "source": [
    "\n",
    "import numpy as np\n",
    "Q1,Q3=np.percentile(ages,[25,75])"
   ]
  },
  {
   "cell_type": "code",
   "execution_count": 8,
   "id": "5f24db12",
   "metadata": {},
   "outputs": [
    {
     "name": "stdout",
     "output_type": "stream",
     "text": [
      "30.0 47.75\n"
     ]
    }
   ],
   "source": [
    "print(Q1,Q3)"
   ]
  },
  {
   "cell_type": "markdown",
   "id": "e708db09",
   "metadata": {},
   "source": [
    "## to check outlier [Lower fennce-Higher Fence]"
   ]
  },
  {
   "cell_type": "code",
   "execution_count": 9,
   "id": "db358cdd",
   "metadata": {},
   "outputs": [
    {
     "name": "stdout",
     "output_type": "stream",
     "text": [
      "3.375 74.375\n"
     ]
    }
   ],
   "source": [
    "IQR=Q3-Q1\n",
    "lower_fence=Q1-1.5*(IQR)\n",
    "Higher_fence=Q3+1.5*(IQR)\n",
    "print(lower_fence,Higher_fence)"
   ]
  },
  {
   "cell_type": "markdown",
   "id": "ce96a063",
   "metadata": {},
   "source": [
    "## Measure Of Dispersion\n",
    "\n",
    "1.Variance\n",
    "\n",
    "2.Standard Deviation"
   ]
  },
  {
   "cell_type": "code",
   "execution_count": 10,
   "id": "e189498a",
   "metadata": {},
   "outputs": [
    {
     "data": {
      "text/plain": [
       "795.2954545454545"
      ]
     },
     "execution_count": 10,
     "metadata": {},
     "output_type": "execute_result"
    }
   ],
   "source": [
    "statistics.variance(ages)"
   ]
  },
  {
   "cell_type": "code",
   "execution_count": 11,
   "id": "f5b80e30",
   "metadata": {},
   "outputs": [
    {
     "data": {
      "text/plain": [
       "729.0208333333334"
      ]
     },
     "execution_count": 11,
     "metadata": {},
     "output_type": "execute_result"
    }
   ],
   "source": [
    "np.var(ages,axis=0)"
   ]
  },
  {
   "cell_type": "code",
   "execution_count": 23,
   "id": "49b75604",
   "metadata": {},
   "outputs": [],
   "source": [
    "## Population variance##\n",
    "def variance(data):\n",
    "    n=len(ages)\n",
    "    ## mean of data\n",
    "    mean=sum(data)/n\n",
    "    ## variance\n",
    "    deviation=[(x-mean)**2 for x in data]\n",
    "    variance=sum(deviation)/n\n",
    "    return variance"
   ]
  },
  {
   "cell_type": "code",
   "execution_count": 24,
   "id": "33297f55",
   "metadata": {},
   "outputs": [
    {
     "data": {
      "text/plain": [
       "729.0208333333334"
      ]
     },
     "execution_count": 24,
     "metadata": {},
     "output_type": "execute_result"
    }
   ],
   "source": [
    "variance(ages)"
   ]
  },
  {
   "cell_type": "code",
   "execution_count": 25,
   "id": "a0d2aa83",
   "metadata": {},
   "outputs": [],
   "source": [
    "##Sample Variance##\n",
    "def variance(data):\n",
    "    n=len(ages)\n",
    "    ##mean of the data##\n",
    "    mean=sum(data)/n\n",
    "    ##variance of the data##\n",
    "    deviation=[(x-mean)**2 for x in data]\n",
    "    vaiance=sum(deviation)/(n-1)\n",
    "    return variance\n"
   ]
  },
  {
   "cell_type": "code",
   "execution_count": 26,
   "id": "bb2de21a",
   "metadata": {},
   "outputs": [
    {
     "name": "stdout",
     "output_type": "stream",
     "text": [
      "<function variance at 0x0000023001DD7790>\n"
     ]
    }
   ],
   "source": [
    "print(variance(ages))"
   ]
  },
  {
   "cell_type": "markdown",
   "id": "f6c9b69d",
   "metadata": {},
   "source": [
    "## Histogram And PDF"
   ]
  },
  {
   "cell_type": "code",
   "execution_count": 22,
   "id": "eb6bd876",
   "metadata": {},
   "outputs": [
    {
     "data": {
      "text/plain": [
       "<AxesSubplot:ylabel='Count'>"
      ]
     },
     "execution_count": 22,
     "metadata": {},
     "output_type": "execute_result"
    },
    {
     "data": {
      "image/png": "[encoded data removed]",
      "text/plain": [
       "<Figure size 432x288 with 1 Axes>"
      ]
     },
     "metadata": {
      "needs_background": "light"
     },
     "output_type": "display_data"
    }
   ],
   "source": [
    "import seaborn as sns\n",
    "sns.histplot(ages,kde=True)"
   ]
  },
  {
   "cell_type": "code",
   "execution_count": 23,
   "id": "6c429ebe",
   "metadata": {},
   "outputs": [],
   "source": [
    "df=sns.load_dataset('iris')"
   ]
  },
  {
   "cell_type": "code",
   "execution_count": 24,
   "id": "40defa7c",
   "metadata": {},
   "outputs": [
    {
     "data": {
      "text/html": [
       "<div>\n",
       "<style scoped>\n",
       "    .dataframe tbody tr th:only-of-type {\n",
       "        vertical-align: middle;\n",
       "    }\n",
       "\n",
       "    .dataframe tbody tr th {\n",
       "        vertical-align: top;\n",
       "    }\n",
       "\n",
       "    .dataframe thead th {\n",
       "        text-align: right;\n",
       "    }\n",
       "</style>\n",
       "<table border=\"1\" class=\"dataframe\">\n",
       "  <thead>\n",
       "    <tr style=\"text-align: right;\">\n",
       "      <th></th>\n",
       "      <th>sepal_length</th>\n",
       "      <th>sepal_width</th>\n",
       "      <th>petal_length</th>\n",
       "      <th>petal_width</th>\n",
       "      <th>species</th>\n",
       "    </tr>\n",
       "  </thead>\n",
       "  <tbody>\n",
       "    <tr>\n",
       "      <th>0</th>\n",
       "      <td>5.1</td>\n",
       "      <td>3.5</td>\n",
       "      <td>1.4</td>\n",
       "      <td>0.2</td>\n",
       "      <td>setosa</td>\n",
       "    </tr>\n",
       "    <tr>\n",
       "      <th>1</th>\n",
       "      <td>4.9</td>\n",
       "      <td>3.0</td>\n",
       "      <td>1.4</td>\n",
       "      <td>0.2</td>\n",
       "      <td>setosa</td>\n",
       "    </tr>\n",
       "    <tr>\n",
       "      <th>2</th>\n",
       "      <td>4.7</td>\n",
       "      <td>3.2</td>\n",
       "      <td>1.3</td>\n",
       "      <td>0.2</td>\n",
       "      <td>setosa</td>\n",
       "    </tr>\n",
       "    <tr>\n",
       "      <th>3</th>\n",
       "      <td>4.6</td>\n",
       "      <td>3.1</td>\n",
       "      <td>1.5</td>\n",
       "      <td>0.2</td>\n",
       "      <td>setosa</td>\n",
       "    </tr>\n",
       "    <tr>\n",
       "      <th>4</th>\n",
       "      <td>5.0</td>\n",
       "      <td>3.6</td>\n",
       "      <td>1.4</td>\n",
       "      <td>0.2</td>\n",
       "      <td>setosa</td>\n",
       "    </tr>\n",
       "  </tbody>\n",
       "</table>\n",
       "</div>"
      ],
      "text/plain": [
       "   sepal_length  sepal_width  petal_length  petal_width species\n",
       "0           5.1          3.5           1.4          0.2  setosa\n",
       "1           4.9          3.0           1.4          0.2  setosa\n",
       "2           4.7          3.2           1.3          0.2  setosa\n",
       "3           4.6          3.1           1.5          0.2  setosa\n",
       "4           5.0          3.6           1.4          0.2  setosa"
      ]
     },
     "execution_count": 24,
     "metadata": {},
     "output_type": "execute_result"
    }
   ],
   "source": [
    "df.head()"
   ]
  },
  {
   "cell_type": "code",
   "execution_count": 25,
   "id": "7a3612ab",
   "metadata": {},
   "outputs": [
    {
     "data": {
      "text/plain": [
       "<AxesSubplot:xlabel='sepal_length', ylabel='Count'>"
      ]
     },
     "execution_count": 25,
     "metadata": {},
     "output_type": "execute_result"
    },
    {
     "data": {
      "image/png": "[encoded data removed]",
      "text/plain": [
       "<Figure size 432x288 with 1 Axes>"
      ]
     },
     "metadata": {
      "needs_background": "light"
     },
     "output_type": "display_data"
    }
   ],
   "source": [
    "sns.histplot(df['sepal_length'],kde=True)"
   ]
  },
  {
   "cell_type": "code",
   "execution_count": 42,
   "id": "216feca5",
   "metadata": {},
   "outputs": [
    {
     "data": {
      "text/plain": [
       "<AxesSubplot:xlabel='petal_length', ylabel='Count'>"
      ]
     },
     "execution_count": 42,
     "metadata": {},
     "output_type": "execute_result"
    },
    {
     "data": {
      "image/png": "[encoded data removed]",
      "text/plain": [
       "<Figure size 432x288 with 1 Axes>"
      ]
     },
     "metadata": {
      "needs_background": "light"
     },
     "output_type": "display_data"
    }
   ],
   "source": [
    "sns.histplot(df['petal_length'],kde=True)"
   ]
  },
  {
   "cell_type": "code",
   "execution_count": 38,
   "id": "f0a89237",
   "metadata": {},
   "outputs": [
    {
     "data": {
      "text/plain": [
       "<AxesSubplot:xlabel='sepal_width', ylabel='Count'>"
      ]
     },
     "execution_count": 38,
     "metadata": {},
     "output_type": "execute_result"
    },
    {
     "data": {
      "image/png": "[encoded data removed]",
      "text/plain": [
       "<Figure size 432x288 with 1 Axes>"
      ]
     },
     "metadata": {
      "needs_background": "light"
     },
     "output_type": "display_data"
    }
   ],
   "source": [
    "sns.histplot(df['sepal_width'],kde=True)"
   ]
  },
  {
   "cell_type": "code",
   "execution_count": 28,
   "id": "78054941",
   "metadata": {},
   "outputs": [],
   "source": [
    "## create a normal distributed data\n",
    "s=np.random.normal(0.5,0.2,1000)"
   ]
  },
  {
   "cell_type": "code",
   "execution_count": 29,
   "id": "0ae36905",
   "metadata": {},
   "outputs": [
    {
     "data": {
      "text/plain": [
       "array([ 0.19617546,  0.33161703,  0.56660718,  0.80096274,  0.48839589,\n",
       "        0.31624333,  1.10957859,  0.47990064,  0.72381615,  0.36200971,\n",
       "        0.59766815,  0.50240889,  0.57218705,  0.36648484,  0.54627039,\n",
       "        0.22098306,  0.47813585,  0.36960955,  0.46898338,  0.66649889,\n",
       "        0.70527076,  0.44221081,  0.4972322 ,  0.66921177,  0.77450269,\n",
       "        0.67181071,  0.80969633,  0.47350207,  0.3897446 ,  0.5393877 ,\n",
       "        0.94177845,  0.79449458,  0.52849832,  0.52899141,  0.25651237,\n",
       "        0.29094589,  0.54097792,  0.59662644,  0.56967753,  0.78229683,\n",
       "        0.77953704,  0.6640511 ,  0.54662879,  0.35149053,  0.16180509,\n",
       "        0.2926079 ,  0.52380532,  0.57299224,  0.34434031,  0.45923305,\n",
       "        0.38792633,  0.44567925,  0.49549463,  0.11905515,  0.43335331,\n",
       "        0.33906419,  0.34698944,  0.65827102,  0.18311326,  0.36662237,\n",
       "        0.48949301,  0.43667739,  0.69886777,  0.67581579,  0.28423604,\n",
       "        0.41431895,  0.52093474,  0.18011479,  0.64893605,  0.71580846,\n",
       "        0.45670697,  0.5503153 ,  0.78266125,  0.17230067,  0.46269088,\n",
       "        0.38974284,  0.53988959,  0.53191318,  0.66960717,  0.50016519,\n",
       "        0.09711621,  0.31771958,  0.19957334, -0.05093223,  0.15076331,\n",
       "        0.77313384,  0.44218371,  0.4064143 ,  0.74936255,  0.24370265,\n",
       "        0.22992084,  0.42257452,  0.33166177,  0.37413569,  0.68045661,\n",
       "        0.61395489,  0.63211099,  0.69121937,  0.66060762,  0.4179331 ,\n",
       "        0.68079657,  0.09380963,  0.60460583,  0.80014046,  0.28231511,\n",
       "        0.19345191,  0.40500316,  0.62785332,  0.62576398,  0.724826  ,\n",
       "        0.64275044,  0.7868067 ,  0.32989506,  0.5774788 ,  0.65474797,\n",
       "        0.58825613,  0.49142846,  0.87446039,  0.71205554,  0.24495521,\n",
       "        0.79945397,  0.7428862 ,  0.73666392,  0.68532014,  0.60264185,\n",
       "        0.42993765,  0.43894272,  0.58421035,  0.54930333,  0.59094353,\n",
       "        0.7551961 ,  0.84059678,  0.62788378, -0.18626724,  0.62003705,\n",
       "        0.55872229,  0.35152641,  0.49705851,  0.78748001,  0.16581843,\n",
       "        0.78877712,  0.53713314,  0.47274966,  0.53775461,  0.58063041,\n",
       "        0.60164253,  0.5878523 ,  0.79431623,  0.25806468,  0.27317392,\n",
       "        0.72163761,  0.36213068,  0.73543478,  0.62122337,  0.58558324,\n",
       "        0.76499269,  0.68377258,  0.56908378,  0.53600207,  0.23195965,\n",
       "       -0.12731347,  0.58363661,  0.50535361,  0.09709826,  0.65483161,\n",
       "        0.41104601,  0.24560263,  0.72163619,  0.33705937,  0.5600043 ,\n",
       "        0.09740817,  0.66490855,  0.06565333,  0.38904962,  0.47415726,\n",
       "        0.51060447,  0.55797164,  0.32147321,  0.44617344,  0.47758824,\n",
       "        0.75480745,  0.74936304,  0.39162588,  0.46546908,  0.91394693,\n",
       "        0.17410109,  0.82107075,  0.3665766 ,  0.92953101,  0.48478394,\n",
       "        0.88152259,  0.66714607,  0.05186802,  0.60718447,  0.45626803,\n",
       "        0.73754052,  0.36013419,  0.64817102,  0.46255022,  1.02733806,\n",
       "        0.89995638,  0.53758001,  0.22371388,  0.72834628,  0.61942178,\n",
       "        0.54349984,  0.49813428,  0.92750593,  0.44149599,  0.40258074,\n",
       "        0.61715874,  0.59343282,  0.58657345,  0.48034983,  0.51719337,\n",
       "        0.65993283,  0.56262685,  0.67866549,  0.67130142,  1.07576138,\n",
       "        0.47058067,  0.496538  ,  0.81301768,  0.62762878,  0.35595002,\n",
       "        0.86371362,  0.71291375,  0.64349604,  0.41515281,  0.51953713,\n",
       "        0.77636905,  0.7004945 ,  0.70742396,  0.60395398,  0.80801991,\n",
       "        0.53727367,  0.64714042,  0.96110296,  0.36303868,  0.50221236,\n",
       "        0.50618193,  0.6192725 ,  0.34919501,  0.23803751,  0.29961209,\n",
       "        0.55744571,  0.62125709,  0.76629742,  0.24161715,  0.6019935 ,\n",
       "        0.86581322,  0.3101479 ,  0.38106656,  0.49032797,  0.3176742 ,\n",
       "        0.430641  ,  0.59344173,  0.55634046,  0.28948637,  0.64262474,\n",
       "        0.5166098 ,  0.69944259,  0.55045858,  0.65338267,  0.40161771,\n",
       "        0.53327673,  0.41721218,  0.82773198,  0.01359019,  0.2334569 ,\n",
       "        0.60303671,  0.5414337 ,  0.38362348,  0.9614083 ,  0.60799118,\n",
       "        0.93459001,  0.66437452,  0.89278598,  0.76305328,  0.64787128,\n",
       "        0.83508199,  0.34974414,  0.66961405,  0.2901543 ,  0.69557957,\n",
       "        0.61144284,  0.22983478,  0.43311565,  0.29947024,  0.08838291,\n",
       "        0.53930821,  0.70340807,  0.46876935,  0.51432031,  0.1752807 ,\n",
       "        0.01939118,  0.61441333,  0.76002649,  0.36511278,  0.79367688,\n",
       "        0.72893509,  0.35288348,  0.39564452,  0.56506929,  0.70162549,\n",
       "        0.70310897,  0.91159935,  0.04426834,  0.56708322,  0.33502671,\n",
       "        0.26015484,  0.36140108,  0.58461399,  0.65597225,  0.66410724,\n",
       "        0.5685618 ,  0.21923772,  0.35257363,  0.62249839,  0.25638409,\n",
       "        0.39776444,  0.32540347,  0.29715293,  0.69516101,  0.31365523,\n",
       "        0.60794233,  0.50415004,  0.73506813,  0.59900428,  0.2958696 ,\n",
       "        0.28478329,  0.43717603,  0.3658486 ,  0.67005081,  0.65613241,\n",
       "        0.63517863,  0.45808615,  0.5982428 ,  0.50901132,  0.33596713,\n",
       "       -0.01618644,  0.42188746,  0.51723133,  0.42543393,  0.33790901,\n",
       "        0.29204337,  0.44870529,  0.33534128,  0.37416222,  0.58504997,\n",
       "        0.65987246,  0.69065706,  0.16555976,  0.39247214,  0.55699987,\n",
       "        0.41607966,  0.55059156,  0.84299838,  0.18156853,  0.82563687,\n",
       "        0.62775306,  0.54784124,  0.1744388 ,  0.39190041,  0.17890146,\n",
       "        0.66103478,  0.70097125,  0.87366926,  0.38326574,  0.41660884,\n",
       "        0.5053953 ,  0.38553338,  0.26880771,  0.49234011,  0.52141833,\n",
       "        0.38397363,  0.43114048,  0.79758608,  0.32502445,  0.70228186,\n",
       "        0.71084759,  0.52241239,  0.43073591,  0.63496455,  0.55586149,\n",
       "        0.39284028,  0.45528375,  0.24389321,  0.37927989,  0.41657386,\n",
       "        0.33613443,  0.86072933,  0.73743224,  0.62635691,  0.42598073,\n",
       "        0.48767159,  0.50547136,  0.46937439,  0.48328471,  0.40791501,\n",
       "        0.74111726,  0.39184713,  0.42826377,  0.25991905,  0.7161149 ,\n",
       "        0.7738903 ,  0.62369006,  0.49678449,  0.6315924 ,  0.24460124,\n",
       "        0.53532749,  0.58031144,  0.39087379,  0.64322143,  0.40432516,\n",
       "        0.34973642,  0.76236148,  0.23226595,  0.21918447,  0.72902324,\n",
       "        0.40517979,  0.12926109,  0.39520973,  0.53682637,  0.89970893,\n",
       "        0.77440671,  0.57329862,  0.57440358,  0.47722167,  0.74472867,\n",
       "        0.15409509,  0.56740524,  0.37631254,  0.59601093,  0.18920693,\n",
       "        0.37125141,  0.48294934,  0.33592664,  0.20093078,  0.57957788,\n",
       "        0.4979    ,  0.69311962,  0.58281331,  0.72561151,  0.46374688,\n",
       "        0.56481826,  0.13687545,  0.70985593,  0.36600332,  0.32587989,\n",
       "        0.31161124,  0.40184096,  0.65046806,  0.73636406,  0.66346018,\n",
       "        0.44439874,  0.74895797,  0.53452002,  0.22680645,  0.14241847,\n",
       "        0.53471425,  0.31670146,  0.36440099,  0.18264389,  0.16433209,\n",
       "       -0.13284971,  0.66079491,  0.71443187,  0.59290831,  0.53726635,\n",
       "       -0.00152408,  0.15998918,  0.61422604,  0.16325204,  1.03794872,\n",
       "        0.4292302 ,  0.53366125,  0.63872193,  0.75529309,  0.44161924,\n",
       "        0.65766391,  0.61506037,  0.44780112,  0.88034369,  0.48150355,\n",
       "        0.39580748,  0.59923268,  0.52492791,  0.4723501 ,  0.59199165,\n",
       "        0.18999059,  0.37194039,  0.03904995,  0.36871448,  0.59238809,\n",
       "       -0.08917009,  0.51372319,  0.52874029,  0.54367596,  0.47003789,\n",
       "        0.58838987,  0.10106293,  0.64568087,  0.09887447,  0.44320474,\n",
       "        0.51995807,  0.14427915,  0.7203963 ,  0.65785724,  0.70147765,\n",
       "        0.63054577,  0.30199769,  0.4447526 ,  0.42029347,  0.43571749,\n",
       "        0.26277107,  0.44988478,  0.71900692,  0.44925935,  0.50747599,\n",
       "        0.63420636,  0.33039286,  0.40622678,  0.96961071,  0.28478313,\n",
       "        0.52647146,  0.20713731,  0.82959934,  0.24494871,  0.48197169,\n",
       "        0.73581657,  0.34000863,  0.12722574,  0.50881219,  0.55491206,\n",
       "        0.34410238,  0.5381991 ,  0.64865125,  0.62305781,  0.84288465,\n",
       "        0.37993318,  0.83164741,  0.55894954,  0.87429586,  0.46931225,\n",
       "        0.25557116,  0.28336114,  0.16756642,  0.41558129,  0.62885728,\n",
       "        0.55818708,  0.58578314,  0.21382116,  0.74409961,  0.23761346,\n",
       "        0.43878593,  0.3723032 ,  0.67439022,  0.51730005,  0.56728346,\n",
       "        0.38387045,  0.38529372,  0.94024346,  0.56596717,  0.5441157 ,\n",
       "        0.39245461,  0.55421696,  0.69609091,  0.73421406,  0.57265464,\n",
       "        0.46114411,  0.74339063,  0.27950475,  0.42953806,  0.3086548 ,\n",
       "        0.89717947,  0.76167471,  0.33742462,  0.35745268,  0.688624  ,\n",
       "        0.40399179,  0.74842432,  0.53135553,  0.55966539,  0.4182308 ,\n",
       "        0.35000713,  0.49562171,  0.2659901 ,  0.54997424,  0.56129693,\n",
       "        0.41845177,  0.85930398,  0.61669538,  0.29217697,  0.89561307,\n",
       "        0.26738915,  0.65240779,  0.74241794,  0.22600136,  0.23646872,\n",
       "        0.68528476,  1.02408345,  0.78554187,  0.55842314,  0.74069025,\n",
       "        0.60739885,  0.9350838 , -0.01943012,  0.51324229,  0.36948191,\n",
       "        0.62256398,  0.6016613 ,  0.73517207,  0.54474554,  0.47504382,\n",
       "        0.37041758,  0.81274112,  0.29941536,  1.08320495,  0.98333305,\n",
       "        0.38966692,  0.29904433,  0.61207868,  0.68244145,  0.71345553,\n",
       "        0.22026108,  0.30314225,  0.47051266,  0.55760172,  0.50771666,\n",
       "        0.45495333,  0.52189718,  0.50774619,  0.45765464,  0.35898912,\n",
       "        0.33363705,  0.26149353,  0.53414835,  0.58798236,  0.52619679,\n",
       "        0.12870642,  0.56984875,  0.45292138,  0.62802083,  0.36932061,\n",
       "        0.74689789,  0.73607515,  0.67525413,  0.66858117,  0.7648941 ,\n",
       "        0.54058078,  0.49461595,  0.61345704,  0.40017854,  0.3838311 ,\n",
       "        0.40974863,  0.47884659,  0.4130483 ,  0.53865597,  0.316364  ,\n",
       "        0.4195729 ,  0.56730675,  0.44538378,  0.64692678,  0.41482883,\n",
       "        0.72714503,  0.49598325,  0.41476604,  0.23864787,  0.63551127,\n",
       "        0.75874921,  0.53697089,  0.62194797,  0.50345437,  0.56487833,\n",
       "        0.58137491,  0.43053425,  0.15671831,  0.34812367,  0.61050249,\n",
       "        0.48660089,  0.59343502,  0.63515753,  0.42307917,  0.42512053,\n",
       "        0.35265178,  0.33027944,  0.42012144,  0.281251  ,  0.61594366,\n",
       "        0.8348011 ,  0.3413534 ,  0.6336176 ,  0.7442963 ,  0.47656351,\n",
       "        0.26846884,  0.31148216,  0.80116446,  0.52320529,  0.54650927,\n",
       "        0.09521895,  0.67854846,  0.68540303,  0.49705234,  0.65770458,\n",
       "        0.69617078,  0.46304372,  0.33503068,  0.35881293,  0.47070516,\n",
       "        0.90580861,  0.64720907,  0.51491855,  0.54179671,  0.57726171,\n",
       "        0.2931558 ,  0.98438445,  0.39519426,  0.75267797,  0.26878814,\n",
       "        0.36117965,  0.4678638 ,  0.69581644,  0.41126267,  0.66323723,\n",
       "        0.72916625,  0.31576121,  0.6901606 ,  0.75721222,  0.29317471,\n",
       "        0.49933844,  0.43667699,  0.82264231,  0.43072346,  0.57076709,\n",
       "        0.15792426,  0.55178889,  0.44128689,  0.34281194,  0.70624481,\n",
       "        0.29468341,  0.37325505,  0.43361479,  0.17012584,  0.09746081,\n",
       "        0.36042695,  0.80342678,  0.37333705,  0.49904356,  0.40116478,\n",
       "        0.37042906,  0.54235825,  0.57430203,  0.55341212,  0.49839486,\n",
       "        0.5387852 ,  0.36132424,  0.62186943,  0.49400185,  0.48988249,\n",
       "        0.28908969,  0.44342778,  0.42722964,  0.44444442,  0.6353464 ,\n",
       "        0.44235775,  0.50488035,  0.5371294 ,  0.67802958,  0.59271772,\n",
       "        0.47182721,  0.77017176,  0.64589757,  0.73393079,  0.26313471,\n",
       "        0.69041555,  0.16895376,  0.92042119,  0.56412796,  0.1939234 ,\n",
       "        0.73284617,  0.43596263,  0.67081231,  0.60621165,  0.56972976,\n",
       "        0.18046522,  0.18895594,  0.4337472 ,  0.86149513,  0.22933418,\n",
       "        0.65097993,  0.53835908,  0.40141119,  0.71518558,  0.4915229 ,\n",
       "        0.41892807,  0.42086573,  0.38258081,  0.68195309,  0.65839169,\n",
       "        0.55467216,  0.32606151,  0.45834491,  0.39127542,  0.64591705,\n",
       "        0.39209008,  0.78593779,  0.56506898,  0.31804926,  0.70611425,\n",
       "        0.79165285,  0.55672419,  0.37329499,  0.53564237,  0.40842939,\n",
       "        0.0995231 ,  0.52301932,  0.45587559,  0.14854843,  0.78788959,\n",
       "        0.48859018,  0.5230728 ,  0.46323728,  0.12790457,  0.74693922,\n",
       "        0.66586999,  0.09523458,  1.02347674,  0.36862328,  0.27488808,\n",
       "        0.55258381,  0.50678458,  0.56465627,  0.44127444,  0.53841986,\n",
       "        0.46955809,  0.40144193,  0.30292698,  0.25975061,  0.83522365,\n",
       "        0.57519044,  0.15089517,  0.55231555,  0.4025897 ,  0.68707279,\n",
       "        0.57721397,  0.54179683,  0.76823939,  0.63949235,  0.73438914,\n",
       "        0.56280132,  0.52971531,  0.65200799,  0.60298537,  0.95402643,\n",
       "        0.47170328,  0.56242944,  0.28419445,  0.49111416,  0.39583247,\n",
       "        0.36478346,  0.76537909,  0.3412409 ,  0.89926025,  0.70405561,\n",
       "        0.64837965,  0.58440673,  0.73795675, -0.04700475,  0.57859511,\n",
       "        0.55934987,  0.44309655,  0.00152128,  0.2686549 ,  0.25628427,\n",
       "        0.5683981 ,  0.37096315,  0.4240197 ,  0.50910222,  0.78222617,\n",
       "        0.60948957,  0.33625654,  0.57186948,  0.30411058,  0.54182878,\n",
       "        0.66006489,  0.29762628,  0.31803485,  0.24708961,  0.7409429 ,\n",
       "        0.84919201,  0.42126825,  0.45683239,  0.08559926,  0.18086558,\n",
       "        0.58182243,  0.39189755,  0.14675992,  0.52467288,  1.00367009,\n",
       "        0.52920288,  0.39104186,  0.39006667,  0.32876359,  0.47220662,\n",
       "        0.50744416,  0.68214151,  0.56550388,  0.879068  ,  0.34137314,\n",
       "        0.62416651,  0.43939188,  0.50723224,  0.83970641,  0.33017221,\n",
       "        0.78637269,  0.35290728,  0.41171094,  0.54581954,  0.47985632,\n",
       "        0.42417354,  0.31940003,  0.11405792,  0.49592434,  0.65777558,\n",
       "        0.93197753,  0.38811676,  0.83998899,  0.54186857,  0.41066851,\n",
       "        0.70851112,  0.4416205 ,  0.38145012,  0.56179614,  0.47836495,\n",
       "        0.65632748,  0.61389231,  0.16399444,  0.62560783,  0.61111882,\n",
       "        0.40369338,  0.35562043,  0.50569451,  0.41343078,  0.37469061,\n",
       "        0.45841212,  0.55340369,  0.48059349,  0.63084858,  0.20376564,\n",
       "        0.43375774,  1.02867036,  0.53215951,  0.1653538 ,  0.37788023,\n",
       "        0.70918946, -0.05948417,  0.38459458,  0.39727667,  0.41527439,\n",
       "        0.32136779,  0.48505147,  0.93338045,  0.61785417,  0.73311073,\n",
       "        0.81325517,  0.62762467,  0.58600637,  0.67576196,  0.72424666,\n",
       "        0.28348249,  0.41090679,  0.6928857 ,  0.45254348,  0.53852766,\n",
       "        0.54649276,  0.49342253,  0.5018593 ,  0.39611617,  0.33592618,\n",
       "        0.74600383,  0.19366209,  0.2697578 ,  0.46625243,  0.35998403,\n",
       "        0.44266673,  0.02827204,  0.34687164,  0.61945476,  0.80720953,\n",
       "        0.63203514,  0.64120077,  0.41033003,  0.69114458,  0.51388852,\n",
       "        0.28659666,  0.45449787,  0.56181778,  0.79688961,  0.35510811])"
      ]
     },
     "execution_count": 29,
     "metadata": {},
     "output_type": "execute_result"
    }
   ],
   "source": [
    "s"
   ]
  },
  {
   "cell_type": "code",
   "execution_count": 27,
   "id": "c19826ca",
   "metadata": {},
   "outputs": [
    {
     "data": {
      "text/plain": [
       "<AxesSubplot:ylabel='Count'>"
      ]
     },
     "execution_count": 27,
     "metadata": {},
     "output_type": "execute_result"
    },
    {
     "data": {
      "image/png": "[encoded data removed]",
      "text/plain": [
       "<Figure size 432x288 with 1 Axes>"
      ]
     },
     "metadata": {
      "needs_background": "light"
     },
     "output_type": "display_data"
    }
   ],
   "source": [
    "sns.histplot(s,kde=True)"
   ]
  },
  {
   "cell_type": "markdown",
   "id": "8faa1693",
   "metadata": {},
   "source": [
    "## Other Distribution\n",
    "\n",
    "## Log Normal Distribution,Power Law Distribution"
   ]
  },
  {
   "cell_type": "code",
   "execution_count": 34,
   "id": "618f4c18",
   "metadata": {},
   "outputs": [],
   "source": [
    "mu,sigma =3. , 1.  # mean and standard deviation\n",
    "s=np.random.lognormal(mu, sigma, 100)"
   ]
  },
  {
   "cell_type": "code",
   "execution_count": 35,
   "id": "c9c41581",
   "metadata": {},
   "outputs": [
    {
     "data": {
      "text/plain": [
       "<AxesSubplot:ylabel='Count'>"
      ]
     },
     "execution_count": 35,
     "metadata": {},
     "output_type": "execute_result"
    },
    {
     "data": {
      "image/png": "[encoded data removed]",
      "text/plain": [
       "<Figure size 432x288 with 1 Axes>"
      ]
     },
     "metadata": {
      "needs_background": "light"
     },
     "output_type": "display_data"
    }
   ],
   "source": [
    "sns.histplot(s,kde=True)"
   ]
  },
  {
   "cell_type": "code",
   "execution_count": 36,
   "id": "9c1365ab",
   "metadata": {},
   "outputs": [
    {
     "data": {
      "text/plain": [
       "<AxesSubplot:ylabel='Count'>"
      ]
     },
     "execution_count": 36,
     "metadata": {},
     "output_type": "execute_result"
    },
    {
     "data": {
      "image/png": "[encoded data removed]",
      "text/plain": [
       "<Figure size 432x288 with 1 Axes>"
      ]
     },
     "metadata": {
      "needs_background": "light"
     },
     "output_type": "display_data"
    }
   ],
   "source": [
    "sns.histplot(np.log(s),kde=True)"
   ]
  },
  {
   "cell_type": "markdown",
   "id": "ded02100",
   "metadata": {},
   "source": [
    "## Check whether Distribution is Normal Distribution"
   ]
  },
  {
   "cell_type": "code",
   "execution_count": 51,
   "id": "b6cc4467",
   "metadata": {},
   "outputs": [],
   "source": [
    "## if you want to check whether feature is guassion or normaldistributed\n",
    "### Q-Q plot\n",
    "\n"
   ]
  },
  {
   "cell_type": "code",
   "execution_count": 2,
   "id": "e2399f4e",
   "metadata": {},
   "outputs": [
    {
     "name": "stdout",
     "output_type": "stream",
     "text": [
      "Requirement already satisfied: matplotlib in c:\\users\\anulipsa pc\\anaconda3\\lib\\site-packages (3.4.3)\n",
      "Requirement already satisfied: pillow>=6.2.0 in c:\\users\\anulipsa pc\\anaconda3\\lib\\site-packages (from matplotlib) (8.4.0)\n",
      "Requirement already satisfied: python-dateutil>=2.7 in c:\\users\\anulipsa pc\\anaconda3\\lib\\site-packages (from matplotlib) (2.8.2)\n",
      "Requirement already satisfied: kiwisolver>=1.0.1 in c:\\users\\anulipsa pc\\anaconda3\\lib\\site-packages (from matplotlib) (1.3.1)\n",
      "Requirement already satisfied: cycler>=0.10 in c:\\users\\anulipsa pc\\anaconda3\\lib\\site-packages (from matplotlib) (0.10.0)\n",
      "Requirement already satisfied: numpy>=1.16 in c:\\users\\anulipsa pc\\anaconda3\\lib\\site-packages (from matplotlib) (1.20.3)\n",
      "Requirement already satisfied: pyparsing>=2.2.1 in c:\\users\\anulipsa pc\\anaconda3\\lib\\site-packages (from matplotlib) (3.0.4)\n",
      "Note: you may need to restart the kernel to use updated packages.\n",
      "Requirement already satisfied: six in c:\\users\\anulipsa pc\\anaconda3\\lib\\site-packages (from cycler>=0.10->matplotlib) (1.16.0)\n"
     ]
    }
   ],
   "source": [
    "pip install matplotlib"
   ]
  },
  {
   "cell_type": "code",
   "execution_count": 6,
   "id": "cb5631de",
   "metadata": {},
   "outputs": [
    {
     "ename": "ModuleNotFoundError",
     "evalue": "No module named 'matplotlib.pylot'",
     "output_type": "error",
     "traceback": [
      "\u001b[1;31m---------------------------------------------------------------------------\u001b[0m",
      "\u001b[1;31mModuleNotFoundError\u001b[0m                       Traceback (most recent call last)",
      "\u001b[1;32mC:\\Users\\ANULIP~1\\AppData\\Local\\Temp/ipykernel_10172/3792379548.py\u001b[0m in \u001b[0;36m<module>\u001b[1;34m\u001b[0m\n\u001b[1;32m----> 1\u001b[1;33m \u001b[1;32mimport\u001b[0m \u001b[0mmatplotlib\u001b[0m\u001b[1;33m.\u001b[0m\u001b[0mpylot\u001b[0m \u001b[1;32mas\u001b[0m \u001b[0mplt\u001b[0m\u001b[1;33m\u001b[0m\u001b[1;33m\u001b[0m\u001b[0m\n\u001b[0m",
      "\u001b[1;31mModuleNotFoundError\u001b[0m: No module named 'matplotlib.pylot'"
     ]
    }
   ],
   "source": [
    "import matplotlib.pylot as plt"
   ]
  },
  {
   "cell_type": "code",
   "execution_count": 4,
   "id": "ea54b92b",
   "metadata": {},
   "outputs": [
    {
     "ename": "ModuleNotFoundError",
     "evalue": "No module named 'matplotlib.pylot'",
     "output_type": "error",
     "traceback": [
      "\u001b[1;31m---------------------------------------------------------------------------\u001b[0m",
      "\u001b[1;31mModuleNotFoundError\u001b[0m                       Traceback (most recent call last)",
      "\u001b[1;32mC:\\Users\\ANULIP~1\\AppData\\Local\\Temp/ipykernel_10172/1517772115.py\u001b[0m in \u001b[0;36m<module>\u001b[1;34m\u001b[0m\n\u001b[1;32m----> 1\u001b[1;33m \u001b[1;32mimport\u001b[0m \u001b[0mmatplotlib\u001b[0m\u001b[1;33m.\u001b[0m\u001b[0mpylot\u001b[0m \u001b[1;32mas\u001b[0m \u001b[0mplt\u001b[0m\u001b[1;33m\u001b[0m\u001b[1;33m\u001b[0m\u001b[0m\n\u001b[0m\u001b[0;32m      2\u001b[0m \u001b[1;32mimport\u001b[0m \u001b[0mscipy\u001b[0m\u001b[1;33m.\u001b[0m\u001b[0mstats\u001b[0m \u001b[1;32mas\u001b[0m \u001b[0mstat\u001b[0m\u001b[1;33m\u001b[0m\u001b[1;33m\u001b[0m\u001b[0m\n\u001b[0;32m      3\u001b[0m \u001b[1;32mimport\u001b[0m \u001b[0mpylab\u001b[0m\u001b[1;33m\u001b[0m\u001b[1;33m\u001b[0m\u001b[0m\n\u001b[0;32m      4\u001b[0m \u001b[1;32mdef\u001b[0m \u001b[0mplot_data\u001b[0m\u001b[1;33m(\u001b[0m\u001b[0msample\u001b[0m\u001b[1;33m)\u001b[0m\u001b[1;33m:\u001b[0m\u001b[1;33m\u001b[0m\u001b[1;33m\u001b[0m\u001b[0m\n\u001b[0;32m      5\u001b[0m     \u001b[0mplt\u001b[0m\u001b[1;33m.\u001b[0m\u001b[0mfigure\u001b[0m\u001b[1;33m(\u001b[0m\u001b[0mfigsize\u001b[0m\u001b[1;33m=\u001b[0m\u001b[1;33m(\u001b[0m\u001b[1;36m10\u001b[0m\u001b[1;33m,\u001b[0m\u001b[1;36m6\u001b[0m\u001b[1;33m)\u001b[0m\u001b[1;33m)\u001b[0m\u001b[1;33m\u001b[0m\u001b[1;33m\u001b[0m\u001b[0m\n",
      "\u001b[1;31mModuleNotFoundError\u001b[0m: No module named 'matplotlib.pylot'"
     ]
    }
   ],
   "source": [
    "import matplotlib.pylot as plt\n",
    "import scipy.stats as stat\n",
    "import pylab\n",
    "def plot_data(sample):\n",
    "    plt.figure(figsize=(10,6))\n",
    "    plt.subplot(1,2,1)\n",
    "    sns.histplot(sample)\n",
    "    plt.subplot(1,2,2)\n",
    "    stat.probplot(sample,dist='norm',plot=pylab)\n",
    "    plt.show"
   ]
  },
  {
   "cell_type": "code",
   "execution_count": 40,
   "id": "0b8d2cbd",
   "metadata": {},
   "outputs": [
    {
     "ename": "NameError",
     "evalue": "name 'plot_data' is not defined",
     "output_type": "error",
     "traceback": [
      "\u001b[1;31m---------------------------------------------------------------------------\u001b[0m",
      "\u001b[1;31mNameError\u001b[0m                                 Traceback (most recent call last)",
      "\u001b[1;32mC:\\Users\\ANULIP~1\\AppData\\Local\\Temp/ipykernel_7940/1711110224.py\u001b[0m in \u001b[0;36m<module>\u001b[1;34m\u001b[0m\n\u001b[0;32m      1\u001b[0m \u001b[1;31m## create a normal distributed dataset\u001b[0m\u001b[1;33m\u001b[0m\u001b[1;33m\u001b[0m\u001b[0m\n\u001b[0;32m      2\u001b[0m \u001b[0ms\u001b[0m\u001b[1;33m=\u001b[0m\u001b[0mnp\u001b[0m\u001b[1;33m.\u001b[0m\u001b[0mrandom\u001b[0m\u001b[1;33m.\u001b[0m\u001b[0mnormal\u001b[0m\u001b[1;33m(\u001b[0m\u001b[1;36m0.5\u001b[0m\u001b[1;33m,\u001b[0m\u001b[1;36m0.2\u001b[0m\u001b[1;33m,\u001b[0m\u001b[1;36m1000\u001b[0m\u001b[1;33m)\u001b[0m\u001b[1;33m\u001b[0m\u001b[1;33m\u001b[0m\u001b[0m\n\u001b[1;32m----> 3\u001b[1;33m \u001b[0mplot_data\u001b[0m\u001b[1;33m(\u001b[0m\u001b[0ms\u001b[0m\u001b[1;33m)\u001b[0m\u001b[1;33m\u001b[0m\u001b[1;33m\u001b[0m\u001b[0m\n\u001b[0m",
      "\u001b[1;31mNameError\u001b[0m: name 'plot_data' is not defined"
     ]
    }
   ],
   "source": [
    "## create a normal distributed dataset\n",
    "s=np.random.normal(0.5,0.2,1000)\n",
    "plot_data(s)"
   ]
  },
  {
   "cell_type": "code",
   "execution_count": 41,
   "id": "960826e0",
   "metadata": {},
   "outputs": [
    {
     "ename": "NameError",
     "evalue": "name 'plot_data' is not defined",
     "output_type": "error",
     "traceback": [
      "\u001b[1;31m---------------------------------------------------------------------------\u001b[0m",
      "\u001b[1;31mNameError\u001b[0m                                 Traceback (most recent call last)",
      "\u001b[1;32mC:\\Users\\ANULIP~1\\AppData\\Local\\Temp/ipykernel_7940/1483989378.py\u001b[0m in \u001b[0;36m<module>\u001b[1;34m\u001b[0m\n\u001b[1;32m----> 1\u001b[1;33m \u001b[0mplot_data\u001b[0m\u001b[1;33m(\u001b[0m\u001b[0mdf\u001b[0m\u001b[1;33m[\u001b[0m\u001b[1;34m'sepal_width'\u001b[0m\u001b[1;33m]\u001b[0m\u001b[1;33m)\u001b[0m\u001b[1;33m\u001b[0m\u001b[1;33m\u001b[0m\u001b[0m\n\u001b[0m",
      "\u001b[1;31mNameError\u001b[0m: name 'plot_data' is not defined"
     ]
    }
   ],
   "source": [
    "plot_data(df['sepal_width'])"
   ]
  },
  {
   "cell_type": "markdown",
   "id": "afb7deb7",
   "metadata": {},
   "source": [
    "## Pearson and Sperman Rank correlation"
   ]
  },
  {
   "cell_type": "code",
   "execution_count": 8,
   "id": "2b36fb69",
   "metadata": {},
   "outputs": [],
   "source": [
    "df=sns.load_dataset('tips')"
   ]
  },
  {
   "cell_type": "code",
   "execution_count": 9,
   "id": "e3004183",
   "metadata": {},
   "outputs": [
    {
     "data": {
      "text/html": [
       "<div>\n",
       "<style scoped>\n",
       "    .dataframe tbody tr th:only-of-type {\n",
       "        vertical-align: middle;\n",
       "    }\n",
       "\n",
       "    .dataframe tbody tr th {\n",
       "        vertical-align: top;\n",
       "    }\n",
       "\n",
       "    .dataframe thead th {\n",
       "        text-align: right;\n",
       "    }\n",
       "</style>\n",
       "<table border=\"1\" class=\"dataframe\">\n",
       "  <thead>\n",
       "    <tr style=\"text-align: right;\">\n",
       "      <th></th>\n",
       "      <th>total_bill</th>\n",
       "      <th>tip</th>\n",
       "      <th>sex</th>\n",
       "      <th>smoker</th>\n",
       "      <th>day</th>\n",
       "      <th>time</th>\n",
       "      <th>size</th>\n",
       "    </tr>\n",
       "  </thead>\n",
       "  <tbody>\n",
       "    <tr>\n",
       "      <th>0</th>\n",
       "      <td>16.99</td>\n",
       "      <td>1.01</td>\n",
       "      <td>Female</td>\n",
       "      <td>No</td>\n",
       "      <td>Sun</td>\n",
       "      <td>Dinner</td>\n",
       "      <td>2</td>\n",
       "    </tr>\n",
       "    <tr>\n",
       "      <th>1</th>\n",
       "      <td>10.34</td>\n",
       "      <td>1.66</td>\n",
       "      <td>Male</td>\n",
       "      <td>No</td>\n",
       "      <td>Sun</td>\n",
       "      <td>Dinner</td>\n",
       "      <td>3</td>\n",
       "    </tr>\n",
       "    <tr>\n",
       "      <th>2</th>\n",
       "      <td>21.01</td>\n",
       "      <td>3.50</td>\n",
       "      <td>Male</td>\n",
       "      <td>No</td>\n",
       "      <td>Sun</td>\n",
       "      <td>Dinner</td>\n",
       "      <td>3</td>\n",
       "    </tr>\n",
       "    <tr>\n",
       "      <th>3</th>\n",
       "      <td>23.68</td>\n",
       "      <td>3.31</td>\n",
       "      <td>Male</td>\n",
       "      <td>No</td>\n",
       "      <td>Sun</td>\n",
       "      <td>Dinner</td>\n",
       "      <td>2</td>\n",
       "    </tr>\n",
       "    <tr>\n",
       "      <th>4</th>\n",
       "      <td>24.59</td>\n",
       "      <td>3.61</td>\n",
       "      <td>Female</td>\n",
       "      <td>No</td>\n",
       "      <td>Sun</td>\n",
       "      <td>Dinner</td>\n",
       "      <td>4</td>\n",
       "    </tr>\n",
       "  </tbody>\n",
       "</table>\n",
       "</div>"
      ],
      "text/plain": [
       "   total_bill   tip     sex smoker  day    time  size\n",
       "0       16.99  1.01  Female     No  Sun  Dinner     2\n",
       "1       10.34  1.66    Male     No  Sun  Dinner     3\n",
       "2       21.01  3.50    Male     No  Sun  Dinner     3\n",
       "3       23.68  3.31    Male     No  Sun  Dinner     2\n",
       "4       24.59  3.61  Female     No  Sun  Dinner     4"
      ]
     },
     "execution_count": 9,
     "metadata": {},
     "output_type": "execute_result"
    }
   ],
   "source": [
    "df.head()"
   ]
  },
  {
   "cell_type": "code",
   "execution_count": 10,
   "id": "2b8eed4f",
   "metadata": {},
   "outputs": [
    {
     "data": {
      "text/html": [
       "<div>\n",
       "<style scoped>\n",
       "    .dataframe tbody tr th:only-of-type {\n",
       "        vertical-align: middle;\n",
       "    }\n",
       "\n",
       "    .dataframe tbody tr th {\n",
       "        vertical-align: top;\n",
       "    }\n",
       "\n",
       "    .dataframe thead th {\n",
       "        text-align: right;\n",
       "    }\n",
       "</style>\n",
       "<table border=\"1\" class=\"dataframe\">\n",
       "  <thead>\n",
       "    <tr style=\"text-align: right;\">\n",
       "      <th></th>\n",
       "      <th>total_bill</th>\n",
       "      <th>tip</th>\n",
       "      <th>size</th>\n",
       "    </tr>\n",
       "  </thead>\n",
       "  <tbody>\n",
       "    <tr>\n",
       "      <th>total_bill</th>\n",
       "      <td>1.000000</td>\n",
       "      <td>0.675734</td>\n",
       "      <td>0.598315</td>\n",
       "    </tr>\n",
       "    <tr>\n",
       "      <th>tip</th>\n",
       "      <td>0.675734</td>\n",
       "      <td>1.000000</td>\n",
       "      <td>0.489299</td>\n",
       "    </tr>\n",
       "    <tr>\n",
       "      <th>size</th>\n",
       "      <td>0.598315</td>\n",
       "      <td>0.489299</td>\n",
       "      <td>1.000000</td>\n",
       "    </tr>\n",
       "  </tbody>\n",
       "</table>\n",
       "</div>"
      ],
      "text/plain": [
       "            total_bill       tip      size\n",
       "total_bill    1.000000  0.675734  0.598315\n",
       "tip           0.675734  1.000000  0.489299\n",
       "size          0.598315  0.489299  1.000000"
      ]
     },
     "execution_count": 10,
     "metadata": {},
     "output_type": "execute_result"
    }
   ],
   "source": [
    "df.corr()"
   ]
  },
  {
   "cell_type": "code",
   "execution_count": 11,
   "id": "ca9a3da2",
   "metadata": {},
   "outputs": [
    {
     "data": {
      "text/plain": [
       "<seaborn.axisgrid.PairGrid at 0x179f62483d0>"
      ]
     },
     "execution_count": 11,
     "metadata": {},
     "output_type": "execute_result"
    },
    {
     "data": {
      "image/png": "[encoded data removed]",
      "text/plain": [
       "<Figure size 540x540 with 12 Axes>"
      ]
     },
     "metadata": {
      "needs_background": "light"
     },
     "output_type": "display_data"
    }
   ],
   "source": [
    "sns.pairplot(df)"
   ]
  },
  {
   "cell_type": "code",
   "execution_count": null,
   "id": "c76b277c",
   "metadata": {},
   "outputs": [],
   "source": []
  }
 ],
 "metadata": {
  "kernelspec": {
   "display_name": "Python 3 (ipykernel)",
   "language": "python",
   "name": "python3"
  },
  "language_info": {
   "codemirror_mode": {
    "name": "ipython",
    "version": 3
   },
   "file_extension": ".py",
   "mimetype": "text/x-python",
   "name": "python",
   "nbconvert_exporter": "python",
   "pygments_lexer": "ipython3",
   "version": "3.9.7"
  }
 },
 "nbformat": 4,
 "nbformat_minor": 5
}
